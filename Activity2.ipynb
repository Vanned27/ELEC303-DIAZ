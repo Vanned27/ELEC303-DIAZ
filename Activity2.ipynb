{
 "cells": [
  {
   "cell_type": "markdown",
   "id": "ff74637a-a6b8-4e85-ac58-f71d1630908b",
   "metadata": {},
   "source": [
    "<h1>UK ROAD ACCIDENTS DATA ANALYTICS PROJECT</h1>"
   ]
  },
  {
   "cell_type": "markdown",
   "id": "52bfc5ad-7da5-4955-a260-c4f504419e45",
   "metadata": {},
   "source": [
    "<h2>Analyst: Jovan Allyn L. Diaz</h2>"
   ]
  },
  {
   "cell_type": "code",
   "execution_count": 2,
   "id": "d1ace68b-ca82-47b2-b13f-59e9861d7a62",
   "metadata": {},
   "outputs": [],
   "source": [
    "import numpy as np\n",
    "import pandas as pd\n",
    "import warnings\n",
    "warnings.filterwarnings('ignore')"
   ]
  },
  {
   "cell_type": "code",
   "execution_count": 3,
   "id": "4ca6d6f1-fdfb-4568-b6dd-6edac792abfd",
   "metadata": {},
   "outputs": [],
   "source": [
    "ukaccidents = pd.read_csv('datasets\\\\ukaccidents.csv')"
   ]
  },
  {
   "cell_type": "code",
   "execution_count": 4,
   "id": "33819183-2ecd-429f-81fd-c6b239b6bf27",
   "metadata": {},
   "outputs": [
    {
     "data": {
      "text/html": [
       "<div>\n",
       "<style scoped>\n",
       "    .dataframe tbody tr th:only-of-type {\n",
       "        vertical-align: middle;\n",
       "    }\n",
       "\n",
       "    .dataframe tbody tr th {\n",
       "        vertical-align: top;\n",
       "    }\n",
       "\n",
       "    .dataframe thead th {\n",
       "        text-align: right;\n",
       "    }\n",
       "</style>\n",
       "<table border=\"1\" class=\"dataframe\">\n",
       "  <thead>\n",
       "    <tr style=\"text-align: right;\">\n",
       "      <th></th>\n",
       "      <th>Index</th>\n",
       "      <th>Accident_Severity</th>\n",
       "      <th>Accident Date</th>\n",
       "      <th>Latitude</th>\n",
       "      <th>Light_Conditions</th>\n",
       "      <th>District Area</th>\n",
       "      <th>Longitude</th>\n",
       "      <th>Number_of_Casualties</th>\n",
       "      <th>Number_of_Vehicles</th>\n",
       "      <th>Road_Surface_Conditions</th>\n",
       "      <th>Road_Type</th>\n",
       "      <th>Urban_or_Rural_Area</th>\n",
       "      <th>Weather_Conditions</th>\n",
       "      <th>Vehicle_Type</th>\n",
       "    </tr>\n",
       "  </thead>\n",
       "  <tbody>\n",
       "    <tr>\n",
       "      <th>0</th>\n",
       "      <td>200701BS64157</td>\n",
       "      <td>Serious</td>\n",
       "      <td>5/6/2019</td>\n",
       "      <td>51.506187</td>\n",
       "      <td>Darkness - lights lit</td>\n",
       "      <td>Kensington and Chelsea</td>\n",
       "      <td>-0.209082</td>\n",
       "      <td>1</td>\n",
       "      <td>2</td>\n",
       "      <td>Dry</td>\n",
       "      <td>Single carriageway</td>\n",
       "      <td>Urban</td>\n",
       "      <td>Fine no high winds</td>\n",
       "      <td>Car</td>\n",
       "    </tr>\n",
       "    <tr>\n",
       "      <th>1</th>\n",
       "      <td>200701BS65737</td>\n",
       "      <td>Serious</td>\n",
       "      <td>2/7/2019</td>\n",
       "      <td>51.495029</td>\n",
       "      <td>Daylight</td>\n",
       "      <td>Kensington and Chelsea</td>\n",
       "      <td>-0.173647</td>\n",
       "      <td>1</td>\n",
       "      <td>2</td>\n",
       "      <td>Wet or damp</td>\n",
       "      <td>Single carriageway</td>\n",
       "      <td>Urban</td>\n",
       "      <td>Raining no high winds</td>\n",
       "      <td>Car</td>\n",
       "    </tr>\n",
       "    <tr>\n",
       "      <th>2</th>\n",
       "      <td>200701BS66127</td>\n",
       "      <td>Serious</td>\n",
       "      <td>26-08-2019</td>\n",
       "      <td>51.517715</td>\n",
       "      <td>Darkness - lighting unknown</td>\n",
       "      <td>Kensington and Chelsea</td>\n",
       "      <td>-0.210215</td>\n",
       "      <td>1</td>\n",
       "      <td>3</td>\n",
       "      <td>Dry</td>\n",
       "      <td>NaN</td>\n",
       "      <td>Urban</td>\n",
       "      <td>NaN</td>\n",
       "      <td>Taxi/Private hire car</td>\n",
       "    </tr>\n",
       "    <tr>\n",
       "      <th>3</th>\n",
       "      <td>200701BS66128</td>\n",
       "      <td>Serious</td>\n",
       "      <td>16-08-2019</td>\n",
       "      <td>51.495478</td>\n",
       "      <td>Daylight</td>\n",
       "      <td>Kensington and Chelsea</td>\n",
       "      <td>-0.202731</td>\n",
       "      <td>1</td>\n",
       "      <td>4</td>\n",
       "      <td>Dry</td>\n",
       "      <td>Single carriageway</td>\n",
       "      <td>Urban</td>\n",
       "      <td>Fine no high winds</td>\n",
       "      <td>Bus or coach (17 or more pass seats)</td>\n",
       "    </tr>\n",
       "    <tr>\n",
       "      <th>4</th>\n",
       "      <td>200701BS66837</td>\n",
       "      <td>Slight</td>\n",
       "      <td>3/9/2019</td>\n",
       "      <td>51.488576</td>\n",
       "      <td>Darkness - lights lit</td>\n",
       "      <td>Kensington and Chelsea</td>\n",
       "      <td>-0.192487</td>\n",
       "      <td>1</td>\n",
       "      <td>2</td>\n",
       "      <td>Dry</td>\n",
       "      <td>NaN</td>\n",
       "      <td>Urban</td>\n",
       "      <td>NaN</td>\n",
       "      <td>Other vehicle</td>\n",
       "    </tr>\n",
       "    <tr>\n",
       "      <th>...</th>\n",
       "      <td>...</td>\n",
       "      <td>...</td>\n",
       "      <td>...</td>\n",
       "      <td>...</td>\n",
       "      <td>...</td>\n",
       "      <td>...</td>\n",
       "      <td>...</td>\n",
       "      <td>...</td>\n",
       "      <td>...</td>\n",
       "      <td>...</td>\n",
       "      <td>...</td>\n",
       "      <td>...</td>\n",
       "      <td>...</td>\n",
       "      <td>...</td>\n",
       "    </tr>\n",
       "    <tr>\n",
       "      <th>660674</th>\n",
       "      <td>201091NM01760</td>\n",
       "      <td>Slight</td>\n",
       "      <td>18-02-2022</td>\n",
       "      <td>57.374005</td>\n",
       "      <td>Daylight</td>\n",
       "      <td>Highland</td>\n",
       "      <td>-3.467828</td>\n",
       "      <td>2</td>\n",
       "      <td>1</td>\n",
       "      <td>Dry</td>\n",
       "      <td>Single carriageway</td>\n",
       "      <td>Rural</td>\n",
       "      <td>Fine no high winds</td>\n",
       "      <td>Car</td>\n",
       "    </tr>\n",
       "    <tr>\n",
       "      <th>660675</th>\n",
       "      <td>201091NM01881</td>\n",
       "      <td>Slight</td>\n",
       "      <td>21-02-2022</td>\n",
       "      <td>57.232273</td>\n",
       "      <td>Darkness - no lighting</td>\n",
       "      <td>Highland</td>\n",
       "      <td>-3.809281</td>\n",
       "      <td>1</td>\n",
       "      <td>1</td>\n",
       "      <td>Frost or ice</td>\n",
       "      <td>Single carriageway</td>\n",
       "      <td>Rural</td>\n",
       "      <td>Fine no high winds</td>\n",
       "      <td>Car</td>\n",
       "    </tr>\n",
       "    <tr>\n",
       "      <th>660676</th>\n",
       "      <td>201091NM01935</td>\n",
       "      <td>Slight</td>\n",
       "      <td>23-02-2022</td>\n",
       "      <td>57.585044</td>\n",
       "      <td>Daylight</td>\n",
       "      <td>Highland</td>\n",
       "      <td>-3.862727</td>\n",
       "      <td>1</td>\n",
       "      <td>3</td>\n",
       "      <td>Frost or ice</td>\n",
       "      <td>Single carriageway</td>\n",
       "      <td>Rural</td>\n",
       "      <td>Fine no high winds</td>\n",
       "      <td>Car</td>\n",
       "    </tr>\n",
       "    <tr>\n",
       "      <th>660677</th>\n",
       "      <td>201091NM01964</td>\n",
       "      <td>Serious</td>\n",
       "      <td>23-02-2022</td>\n",
       "      <td>57.214898</td>\n",
       "      <td>Darkness - no lighting</td>\n",
       "      <td>Highland</td>\n",
       "      <td>-3.823997</td>\n",
       "      <td>1</td>\n",
       "      <td>2</td>\n",
       "      <td>Wet or damp</td>\n",
       "      <td>Single carriageway</td>\n",
       "      <td>Rural</td>\n",
       "      <td>Fine no high winds</td>\n",
       "      <td>Motorcycle over 500cc</td>\n",
       "    </tr>\n",
       "    <tr>\n",
       "      <th>660678</th>\n",
       "      <td>201091NM02142</td>\n",
       "      <td>Serious</td>\n",
       "      <td>28-02-2022</td>\n",
       "      <td>57.575210</td>\n",
       "      <td>Daylight</td>\n",
       "      <td>Highland</td>\n",
       "      <td>-3.895673</td>\n",
       "      <td>1</td>\n",
       "      <td>1</td>\n",
       "      <td>Wet or damp</td>\n",
       "      <td>Dual carriageway</td>\n",
       "      <td>Rural</td>\n",
       "      <td>Snowing no high winds</td>\n",
       "      <td>Car</td>\n",
       "    </tr>\n",
       "  </tbody>\n",
       "</table>\n",
       "<p>660679 rows × 14 columns</p>\n",
       "</div>"
      ],
      "text/plain": [
       "                Index Accident_Severity Accident Date   Latitude  \\\n",
       "0       200701BS64157           Serious      5/6/2019  51.506187   \n",
       "1       200701BS65737           Serious      2/7/2019  51.495029   \n",
       "2       200701BS66127           Serious    26-08-2019  51.517715   \n",
       "3       200701BS66128           Serious    16-08-2019  51.495478   \n",
       "4       200701BS66837            Slight      3/9/2019  51.488576   \n",
       "...               ...               ...           ...        ...   \n",
       "660674  201091NM01760            Slight    18-02-2022  57.374005   \n",
       "660675  201091NM01881            Slight    21-02-2022  57.232273   \n",
       "660676  201091NM01935            Slight    23-02-2022  57.585044   \n",
       "660677  201091NM01964           Serious    23-02-2022  57.214898   \n",
       "660678  201091NM02142           Serious    28-02-2022  57.575210   \n",
       "\n",
       "                   Light_Conditions           District Area  Longitude  \\\n",
       "0             Darkness - lights lit  Kensington and Chelsea  -0.209082   \n",
       "1                          Daylight  Kensington and Chelsea  -0.173647   \n",
       "2       Darkness - lighting unknown  Kensington and Chelsea  -0.210215   \n",
       "3                          Daylight  Kensington and Chelsea  -0.202731   \n",
       "4             Darkness - lights lit  Kensington and Chelsea  -0.192487   \n",
       "...                             ...                     ...        ...   \n",
       "660674                     Daylight                Highland  -3.467828   \n",
       "660675       Darkness - no lighting                Highland  -3.809281   \n",
       "660676                     Daylight                Highland  -3.862727   \n",
       "660677       Darkness - no lighting                Highland  -3.823997   \n",
       "660678                     Daylight                Highland  -3.895673   \n",
       "\n",
       "        Number_of_Casualties  Number_of_Vehicles Road_Surface_Conditions  \\\n",
       "0                          1                   2                     Dry   \n",
       "1                          1                   2             Wet or damp   \n",
       "2                          1                   3                     Dry   \n",
       "3                          1                   4                     Dry   \n",
       "4                          1                   2                     Dry   \n",
       "...                      ...                 ...                     ...   \n",
       "660674                     2                   1                     Dry   \n",
       "660675                     1                   1            Frost or ice   \n",
       "660676                     1                   3            Frost or ice   \n",
       "660677                     1                   2             Wet or damp   \n",
       "660678                     1                   1             Wet or damp   \n",
       "\n",
       "                 Road_Type Urban_or_Rural_Area     Weather_Conditions  \\\n",
       "0       Single carriageway               Urban     Fine no high winds   \n",
       "1       Single carriageway               Urban  Raining no high winds   \n",
       "2                      NaN               Urban                    NaN   \n",
       "3       Single carriageway               Urban     Fine no high winds   \n",
       "4                      NaN               Urban                    NaN   \n",
       "...                    ...                 ...                    ...   \n",
       "660674  Single carriageway               Rural     Fine no high winds   \n",
       "660675  Single carriageway               Rural     Fine no high winds   \n",
       "660676  Single carriageway               Rural     Fine no high winds   \n",
       "660677  Single carriageway               Rural     Fine no high winds   \n",
       "660678    Dual carriageway               Rural  Snowing no high winds   \n",
       "\n",
       "                                Vehicle_Type  \n",
       "0                                        Car  \n",
       "1                                        Car  \n",
       "2                      Taxi/Private hire car  \n",
       "3       Bus or coach (17 or more pass seats)  \n",
       "4                              Other vehicle  \n",
       "...                                      ...  \n",
       "660674                                   Car  \n",
       "660675                                   Car  \n",
       "660676                                   Car  \n",
       "660677                 Motorcycle over 500cc  \n",
       "660678                                   Car  \n",
       "\n",
       "[660679 rows x 14 columns]"
      ]
     },
     "execution_count": 4,
     "metadata": {},
     "output_type": "execute_result"
    }
   ],
   "source": [
    "ukaccidents"
   ]
  },
  {
   "cell_type": "markdown",
   "id": "c72f004c-171f-4151-b60f-8ad8121daba4",
   "metadata": {},
   "source": [
    "<h1>DataFrame Info</h1>"
   ]
  },
  {
   "cell_type": "code",
   "execution_count": 5,
   "id": "309d7d77-91e9-49de-b00e-15cd91005bb9",
   "metadata": {
    "scrolled": true
   },
   "outputs": [
    {
     "name": "stdout",
     "output_type": "stream",
     "text": [
      "<class 'pandas.core.frame.DataFrame'>\n",
      "RangeIndex: 660679 entries, 0 to 660678\n",
      "Data columns (total 14 columns):\n",
      " #   Column                   Non-Null Count   Dtype  \n",
      "---  ------                   --------------   -----  \n",
      " 0   Index                    660679 non-null  object \n",
      " 1   Accident_Severity        660679 non-null  object \n",
      " 2   Accident Date            660679 non-null  object \n",
      " 3   Latitude                 660654 non-null  float64\n",
      " 4   Light_Conditions         660679 non-null  object \n",
      " 5   District Area            660679 non-null  object \n",
      " 6   Longitude                660653 non-null  float64\n",
      " 7   Number_of_Casualties     660679 non-null  int64  \n",
      " 8   Number_of_Vehicles       660679 non-null  int64  \n",
      " 9   Road_Surface_Conditions  659953 non-null  object \n",
      " 10  Road_Type                656159 non-null  object \n",
      " 11  Urban_or_Rural_Area      660664 non-null  object \n",
      " 12  Weather_Conditions       646551 non-null  object \n",
      " 13  Vehicle_Type             660679 non-null  object \n",
      "dtypes: float64(2), int64(2), object(10)\n",
      "memory usage: 70.6+ MB\n"
     ]
    }
   ],
   "source": [
    "ukaccidents.info()"
   ]
  },
  {
   "cell_type": "markdown",
   "id": "e91efbe6-7e08-4cdc-9374-23f780de319a",
   "metadata": {},
   "source": [
    "<h1>DataFrame Basic Descriptive Statistics</h1>"
   ]
  },
  {
   "cell_type": "code",
   "execution_count": 6,
   "id": "a01ba9ac-3603-4e87-bd75-01239284609a",
   "metadata": {},
   "outputs": [
    {
     "data": {
      "text/html": [
       "<div>\n",
       "<style scoped>\n",
       "    .dataframe tbody tr th:only-of-type {\n",
       "        vertical-align: middle;\n",
       "    }\n",
       "\n",
       "    .dataframe tbody tr th {\n",
       "        vertical-align: top;\n",
       "    }\n",
       "\n",
       "    .dataframe thead th {\n",
       "        text-align: right;\n",
       "    }\n",
       "</style>\n",
       "<table border=\"1\" class=\"dataframe\">\n",
       "  <thead>\n",
       "    <tr style=\"text-align: right;\">\n",
       "      <th></th>\n",
       "      <th>Latitude</th>\n",
       "      <th>Longitude</th>\n",
       "      <th>Number_of_Casualties</th>\n",
       "      <th>Number_of_Vehicles</th>\n",
       "    </tr>\n",
       "  </thead>\n",
       "  <tbody>\n",
       "    <tr>\n",
       "      <th>count</th>\n",
       "      <td>660654.000000</td>\n",
       "      <td>660653.000000</td>\n",
       "      <td>660679.000000</td>\n",
       "      <td>660679.000000</td>\n",
       "    </tr>\n",
       "    <tr>\n",
       "      <th>mean</th>\n",
       "      <td>52.553866</td>\n",
       "      <td>-1.431210</td>\n",
       "      <td>1.357040</td>\n",
       "      <td>1.831255</td>\n",
       "    </tr>\n",
       "    <tr>\n",
       "      <th>std</th>\n",
       "      <td>1.406922</td>\n",
       "      <td>1.383330</td>\n",
       "      <td>0.824847</td>\n",
       "      <td>0.715269</td>\n",
       "    </tr>\n",
       "    <tr>\n",
       "      <th>min</th>\n",
       "      <td>49.914430</td>\n",
       "      <td>-7.516225</td>\n",
       "      <td>1.000000</td>\n",
       "      <td>1.000000</td>\n",
       "    </tr>\n",
       "    <tr>\n",
       "      <th>25%</th>\n",
       "      <td>51.490690</td>\n",
       "      <td>-2.332291</td>\n",
       "      <td>1.000000</td>\n",
       "      <td>1.000000</td>\n",
       "    </tr>\n",
       "    <tr>\n",
       "      <th>50%</th>\n",
       "      <td>52.315641</td>\n",
       "      <td>-1.411667</td>\n",
       "      <td>1.000000</td>\n",
       "      <td>2.000000</td>\n",
       "    </tr>\n",
       "    <tr>\n",
       "      <th>75%</th>\n",
       "      <td>53.453452</td>\n",
       "      <td>-0.232869</td>\n",
       "      <td>1.000000</td>\n",
       "      <td>2.000000</td>\n",
       "    </tr>\n",
       "    <tr>\n",
       "      <th>max</th>\n",
       "      <td>60.757544</td>\n",
       "      <td>1.762010</td>\n",
       "      <td>68.000000</td>\n",
       "      <td>32.000000</td>\n",
       "    </tr>\n",
       "  </tbody>\n",
       "</table>\n",
       "</div>"
      ],
      "text/plain": [
       "            Latitude      Longitude  Number_of_Casualties  Number_of_Vehicles\n",
       "count  660654.000000  660653.000000         660679.000000       660679.000000\n",
       "mean       52.553866      -1.431210              1.357040            1.831255\n",
       "std         1.406922       1.383330              0.824847            0.715269\n",
       "min        49.914430      -7.516225              1.000000            1.000000\n",
       "25%        51.490690      -2.332291              1.000000            1.000000\n",
       "50%        52.315641      -1.411667              1.000000            2.000000\n",
       "75%        53.453452      -0.232869              1.000000            2.000000\n",
       "max        60.757544       1.762010             68.000000           32.000000"
      ]
     },
     "execution_count": 6,
     "metadata": {},
     "output_type": "execute_result"
    }
   ],
   "source": [
    "ukaccidents.describe()"
   ]
  },
  {
   "cell_type": "markdown",
   "id": "8fb10d19-fe01-4671-b1c7-1079dacd0921",
   "metadata": {},
   "source": [
    "<h1>Checking Null Values</h1>"
   ]
  },
  {
   "cell_type": "code",
   "execution_count": 7,
   "id": "82446be4-726a-4de4-8adf-873b2e40ef01",
   "metadata": {},
   "outputs": [
    {
     "data": {
      "text/plain": [
       "Index                          0\n",
       "Accident_Severity              0\n",
       "Accident Date                  0\n",
       "Latitude                      25\n",
       "Light_Conditions               0\n",
       "District Area                  0\n",
       "Longitude                     26\n",
       "Number_of_Casualties           0\n",
       "Number_of_Vehicles             0\n",
       "Road_Surface_Conditions      726\n",
       "Road_Type                   4520\n",
       "Urban_or_Rural_Area           15\n",
       "Weather_Conditions         14128\n",
       "Vehicle_Type                   0\n",
       "dtype: int64"
      ]
     },
     "execution_count": 7,
     "metadata": {},
     "output_type": "execute_result"
    }
   ],
   "source": [
    "ukaccidents.isnull().sum()"
   ]
  },
  {
   "cell_type": "markdown",
   "id": "94875d78-0685-48ad-9c54-945d8a12fdf7",
   "metadata": {},
   "source": [
    "<h1>Fill Null Values with Statistical Values</h1>"
   ]
  },
  {
   "cell_type": "code",
   "execution_count": 8,
   "id": "fa4be9bd-df2d-4552-9f3f-a04dd6cae034",
   "metadata": {},
   "outputs": [],
   "source": [
    "ukaccidents['Latitude'] = ukaccidents['Latitude'].fillna(ukaccidents['Latitude'].mean())\n",
    "ukaccidents['Longitude'] = ukaccidents['Longitude'].fillna(ukaccidents['Longitude'].mean())\n",
    "ukaccidents['Road_Surface_Conditions'] = ukaccidents['Road_Surface_Conditions'].fillna(ukaccidents['Road_Surface_Conditions'].mode()[0])\n",
    "ukaccidents['Road_Type'] = ukaccidents['Road_Type'].fillna(ukaccidents['Road_Type'].mode()[0])\n",
    "ukaccidents['Urban_or_Rural_Area'] = ukaccidents['Urban_or_Rural_Area'].fillna(ukaccidents['Urban_or_Rural_Area'].mode()[0])\n",
    "ukaccidents['Weather_Conditions'] = ukaccidents['Weather_Conditions'].fillna(ukaccidents['Weather_Conditions'].mode()[0])"
   ]
  },
  {
   "cell_type": "markdown",
   "id": "3626d216-e121-4b19-a164-f1ab37e184ec",
   "metadata": {},
   "source": [
    "<h1>Checking Column Data Types</h1>"
   ]
  },
  {
   "cell_type": "code",
   "execution_count": 9,
   "id": "21c98d77-f4df-40ea-a381-00d0d17bcc37",
   "metadata": {},
   "outputs": [
    {
     "data": {
      "text/plain": [
       "Index                       object\n",
       "Accident_Severity           object\n",
       "Accident Date               object\n",
       "Latitude                   float64\n",
       "Light_Conditions            object\n",
       "District Area               object\n",
       "Longitude                  float64\n",
       "Number_of_Casualties         int64\n",
       "Number_of_Vehicles           int64\n",
       "Road_Surface_Conditions     object\n",
       "Road_Type                   object\n",
       "Urban_or_Rural_Area         object\n",
       "Weather_Conditions          object\n",
       "Vehicle_Type                object\n",
       "dtype: object"
      ]
     },
     "execution_count": 9,
     "metadata": {},
     "output_type": "execute_result"
    }
   ],
   "source": [
    "ukaccidents.dtypes"
   ]
  },
  {
   "cell_type": "code",
   "execution_count": 10,
   "id": "eeb7f6a8-64d9-4092-a4a2-0777110c8bb5",
   "metadata": {},
   "outputs": [
    {
     "data": {
      "text/html": [
       "<div>\n",
       "<style scoped>\n",
       "    .dataframe tbody tr th:only-of-type {\n",
       "        vertical-align: middle;\n",
       "    }\n",
       "\n",
       "    .dataframe tbody tr th {\n",
       "        vertical-align: top;\n",
       "    }\n",
       "\n",
       "    .dataframe thead th {\n",
       "        text-align: right;\n",
       "    }\n",
       "</style>\n",
       "<table border=\"1\" class=\"dataframe\">\n",
       "  <thead>\n",
       "    <tr style=\"text-align: right;\">\n",
       "      <th></th>\n",
       "      <th>Index</th>\n",
       "      <th>Accident_Severity</th>\n",
       "      <th>Accident Date</th>\n",
       "      <th>Latitude</th>\n",
       "      <th>Light_Conditions</th>\n",
       "      <th>District Area</th>\n",
       "      <th>Longitude</th>\n",
       "      <th>Number_of_Casualties</th>\n",
       "      <th>Number_of_Vehicles</th>\n",
       "      <th>Road_Surface_Conditions</th>\n",
       "      <th>Road_Type</th>\n",
       "      <th>Urban_or_Rural_Area</th>\n",
       "      <th>Weather_Conditions</th>\n",
       "      <th>Vehicle_Type</th>\n",
       "    </tr>\n",
       "  </thead>\n",
       "  <tbody>\n",
       "    <tr>\n",
       "      <th>0</th>\n",
       "      <td>200701BS64157</td>\n",
       "      <td>Serious</td>\n",
       "      <td>5/6/2019</td>\n",
       "      <td>51.506187</td>\n",
       "      <td>Darkness - lights lit</td>\n",
       "      <td>Kensington and Chelsea</td>\n",
       "      <td>-0.209082</td>\n",
       "      <td>1</td>\n",
       "      <td>2</td>\n",
       "      <td>Dry</td>\n",
       "      <td>Single carriageway</td>\n",
       "      <td>Urban</td>\n",
       "      <td>Fine no high winds</td>\n",
       "      <td>Car</td>\n",
       "    </tr>\n",
       "    <tr>\n",
       "      <th>1</th>\n",
       "      <td>200701BS65737</td>\n",
       "      <td>Serious</td>\n",
       "      <td>2/7/2019</td>\n",
       "      <td>51.495029</td>\n",
       "      <td>Daylight</td>\n",
       "      <td>Kensington and Chelsea</td>\n",
       "      <td>-0.173647</td>\n",
       "      <td>1</td>\n",
       "      <td>2</td>\n",
       "      <td>Wet or damp</td>\n",
       "      <td>Single carriageway</td>\n",
       "      <td>Urban</td>\n",
       "      <td>Raining no high winds</td>\n",
       "      <td>Car</td>\n",
       "    </tr>\n",
       "    <tr>\n",
       "      <th>2</th>\n",
       "      <td>200701BS66127</td>\n",
       "      <td>Serious</td>\n",
       "      <td>26-08-2019</td>\n",
       "      <td>51.517715</td>\n",
       "      <td>Darkness - lighting unknown</td>\n",
       "      <td>Kensington and Chelsea</td>\n",
       "      <td>-0.210215</td>\n",
       "      <td>1</td>\n",
       "      <td>3</td>\n",
       "      <td>Dry</td>\n",
       "      <td>Single carriageway</td>\n",
       "      <td>Urban</td>\n",
       "      <td>Fine no high winds</td>\n",
       "      <td>Taxi/Private hire car</td>\n",
       "    </tr>\n",
       "    <tr>\n",
       "      <th>3</th>\n",
       "      <td>200701BS66128</td>\n",
       "      <td>Serious</td>\n",
       "      <td>16-08-2019</td>\n",
       "      <td>51.495478</td>\n",
       "      <td>Daylight</td>\n",
       "      <td>Kensington and Chelsea</td>\n",
       "      <td>-0.202731</td>\n",
       "      <td>1</td>\n",
       "      <td>4</td>\n",
       "      <td>Dry</td>\n",
       "      <td>Single carriageway</td>\n",
       "      <td>Urban</td>\n",
       "      <td>Fine no high winds</td>\n",
       "      <td>Bus or coach (17 or more pass seats)</td>\n",
       "    </tr>\n",
       "    <tr>\n",
       "      <th>4</th>\n",
       "      <td>200701BS66837</td>\n",
       "      <td>Slight</td>\n",
       "      <td>3/9/2019</td>\n",
       "      <td>51.488576</td>\n",
       "      <td>Darkness - lights lit</td>\n",
       "      <td>Kensington and Chelsea</td>\n",
       "      <td>-0.192487</td>\n",
       "      <td>1</td>\n",
       "      <td>2</td>\n",
       "      <td>Dry</td>\n",
       "      <td>Single carriageway</td>\n",
       "      <td>Urban</td>\n",
       "      <td>Fine no high winds</td>\n",
       "      <td>Other vehicle</td>\n",
       "    </tr>\n",
       "    <tr>\n",
       "      <th>...</th>\n",
       "      <td>...</td>\n",
       "      <td>...</td>\n",
       "      <td>...</td>\n",
       "      <td>...</td>\n",
       "      <td>...</td>\n",
       "      <td>...</td>\n",
       "      <td>...</td>\n",
       "      <td>...</td>\n",
       "      <td>...</td>\n",
       "      <td>...</td>\n",
       "      <td>...</td>\n",
       "      <td>...</td>\n",
       "      <td>...</td>\n",
       "      <td>...</td>\n",
       "    </tr>\n",
       "    <tr>\n",
       "      <th>660674</th>\n",
       "      <td>201091NM01760</td>\n",
       "      <td>Slight</td>\n",
       "      <td>18-02-2022</td>\n",
       "      <td>57.374005</td>\n",
       "      <td>Daylight</td>\n",
       "      <td>Highland</td>\n",
       "      <td>-3.467828</td>\n",
       "      <td>2</td>\n",
       "      <td>1</td>\n",
       "      <td>Dry</td>\n",
       "      <td>Single carriageway</td>\n",
       "      <td>Rural</td>\n",
       "      <td>Fine no high winds</td>\n",
       "      <td>Car</td>\n",
       "    </tr>\n",
       "    <tr>\n",
       "      <th>660675</th>\n",
       "      <td>201091NM01881</td>\n",
       "      <td>Slight</td>\n",
       "      <td>21-02-2022</td>\n",
       "      <td>57.232273</td>\n",
       "      <td>Darkness - no lighting</td>\n",
       "      <td>Highland</td>\n",
       "      <td>-3.809281</td>\n",
       "      <td>1</td>\n",
       "      <td>1</td>\n",
       "      <td>Frost or ice</td>\n",
       "      <td>Single carriageway</td>\n",
       "      <td>Rural</td>\n",
       "      <td>Fine no high winds</td>\n",
       "      <td>Car</td>\n",
       "    </tr>\n",
       "    <tr>\n",
       "      <th>660676</th>\n",
       "      <td>201091NM01935</td>\n",
       "      <td>Slight</td>\n",
       "      <td>23-02-2022</td>\n",
       "      <td>57.585044</td>\n",
       "      <td>Daylight</td>\n",
       "      <td>Highland</td>\n",
       "      <td>-3.862727</td>\n",
       "      <td>1</td>\n",
       "      <td>3</td>\n",
       "      <td>Frost or ice</td>\n",
       "      <td>Single carriageway</td>\n",
       "      <td>Rural</td>\n",
       "      <td>Fine no high winds</td>\n",
       "      <td>Car</td>\n",
       "    </tr>\n",
       "    <tr>\n",
       "      <th>660677</th>\n",
       "      <td>201091NM01964</td>\n",
       "      <td>Serious</td>\n",
       "      <td>23-02-2022</td>\n",
       "      <td>57.214898</td>\n",
       "      <td>Darkness - no lighting</td>\n",
       "      <td>Highland</td>\n",
       "      <td>-3.823997</td>\n",
       "      <td>1</td>\n",
       "      <td>2</td>\n",
       "      <td>Wet or damp</td>\n",
       "      <td>Single carriageway</td>\n",
       "      <td>Rural</td>\n",
       "      <td>Fine no high winds</td>\n",
       "      <td>Motorcycle over 500cc</td>\n",
       "    </tr>\n",
       "    <tr>\n",
       "      <th>660678</th>\n",
       "      <td>201091NM02142</td>\n",
       "      <td>Serious</td>\n",
       "      <td>28-02-2022</td>\n",
       "      <td>57.575210</td>\n",
       "      <td>Daylight</td>\n",
       "      <td>Highland</td>\n",
       "      <td>-3.895673</td>\n",
       "      <td>1</td>\n",
       "      <td>1</td>\n",
       "      <td>Wet or damp</td>\n",
       "      <td>Dual carriageway</td>\n",
       "      <td>Rural</td>\n",
       "      <td>Snowing no high winds</td>\n",
       "      <td>Car</td>\n",
       "    </tr>\n",
       "  </tbody>\n",
       "</table>\n",
       "<p>660679 rows × 14 columns</p>\n",
       "</div>"
      ],
      "text/plain": [
       "                Index Accident_Severity Accident Date   Latitude  \\\n",
       "0       200701BS64157           Serious      5/6/2019  51.506187   \n",
       "1       200701BS65737           Serious      2/7/2019  51.495029   \n",
       "2       200701BS66127           Serious    26-08-2019  51.517715   \n",
       "3       200701BS66128           Serious    16-08-2019  51.495478   \n",
       "4       200701BS66837            Slight      3/9/2019  51.488576   \n",
       "...               ...               ...           ...        ...   \n",
       "660674  201091NM01760            Slight    18-02-2022  57.374005   \n",
       "660675  201091NM01881            Slight    21-02-2022  57.232273   \n",
       "660676  201091NM01935            Slight    23-02-2022  57.585044   \n",
       "660677  201091NM01964           Serious    23-02-2022  57.214898   \n",
       "660678  201091NM02142           Serious    28-02-2022  57.575210   \n",
       "\n",
       "                   Light_Conditions           District Area  Longitude  \\\n",
       "0             Darkness - lights lit  Kensington and Chelsea  -0.209082   \n",
       "1                          Daylight  Kensington and Chelsea  -0.173647   \n",
       "2       Darkness - lighting unknown  Kensington and Chelsea  -0.210215   \n",
       "3                          Daylight  Kensington and Chelsea  -0.202731   \n",
       "4             Darkness - lights lit  Kensington and Chelsea  -0.192487   \n",
       "...                             ...                     ...        ...   \n",
       "660674                     Daylight                Highland  -3.467828   \n",
       "660675       Darkness - no lighting                Highland  -3.809281   \n",
       "660676                     Daylight                Highland  -3.862727   \n",
       "660677       Darkness - no lighting                Highland  -3.823997   \n",
       "660678                     Daylight                Highland  -3.895673   \n",
       "\n",
       "        Number_of_Casualties  Number_of_Vehicles Road_Surface_Conditions  \\\n",
       "0                          1                   2                     Dry   \n",
       "1                          1                   2             Wet or damp   \n",
       "2                          1                   3                     Dry   \n",
       "3                          1                   4                     Dry   \n",
       "4                          1                   2                     Dry   \n",
       "...                      ...                 ...                     ...   \n",
       "660674                     2                   1                     Dry   \n",
       "660675                     1                   1            Frost or ice   \n",
       "660676                     1                   3            Frost or ice   \n",
       "660677                     1                   2             Wet or damp   \n",
       "660678                     1                   1             Wet or damp   \n",
       "\n",
       "                 Road_Type Urban_or_Rural_Area     Weather_Conditions  \\\n",
       "0       Single carriageway               Urban     Fine no high winds   \n",
       "1       Single carriageway               Urban  Raining no high winds   \n",
       "2       Single carriageway               Urban     Fine no high winds   \n",
       "3       Single carriageway               Urban     Fine no high winds   \n",
       "4       Single carriageway               Urban     Fine no high winds   \n",
       "...                    ...                 ...                    ...   \n",
       "660674  Single carriageway               Rural     Fine no high winds   \n",
       "660675  Single carriageway               Rural     Fine no high winds   \n",
       "660676  Single carriageway               Rural     Fine no high winds   \n",
       "660677  Single carriageway               Rural     Fine no high winds   \n",
       "660678    Dual carriageway               Rural  Snowing no high winds   \n",
       "\n",
       "                                Vehicle_Type  \n",
       "0                                        Car  \n",
       "1                                        Car  \n",
       "2                      Taxi/Private hire car  \n",
       "3       Bus or coach (17 or more pass seats)  \n",
       "4                              Other vehicle  \n",
       "...                                      ...  \n",
       "660674                                   Car  \n",
       "660675                                   Car  \n",
       "660676                                   Car  \n",
       "660677                 Motorcycle over 500cc  \n",
       "660678                                   Car  \n",
       "\n",
       "[660679 rows x 14 columns]"
      ]
     },
     "execution_count": 10,
     "metadata": {},
     "output_type": "execute_result"
    }
   ],
   "source": [
    "ukaccidents\n"
   ]
  },
  {
   "cell_type": "markdown",
   "id": "242b344e-ae02-45d9-b262-99aa53d7b23a",
   "metadata": {},
   "source": [
    "<h1>Activity 2</h1>"
   ]
  },
  {
   "cell_type": "markdown",
   "id": "7d8f0c73-febb-4426-9137-64a841ba7a02",
   "metadata": {},
   "source": [
    "<h1>Question 1</h1>"
   ]
  },
  {
   "cell_type": "markdown",
   "id": "d5ad0167-2f75-4cd5-807a-3eda5ac3e08a",
   "metadata": {},
   "source": [
    "<h2>What is the most common accident severity?</h2>"
   ]
  },
  {
   "cell_type": "code",
   "execution_count": 11,
   "id": "01def8b4-2489-4a1c-827f-af28b52673f3",
   "metadata": {},
   "outputs": [
    {
     "data": {
      "text/plain": [
       "Accident_Severity\n",
       "Slight     563801\n",
       "Serious     88217\n",
       "Fatal        8661\n",
       "Name: count, dtype: int64"
      ]
     },
     "execution_count": 11,
     "metadata": {},
     "output_type": "execute_result"
    }
   ],
   "source": [
    "ukaccidents['Accident_Severity'].value_counts()"
   ]
  },
  {
   "cell_type": "markdown",
   "id": "9ac4804c-c33c-4814-bc41-9ee1ba00e3ba",
   "metadata": {},
   "source": [
    "<h2>Insights: Most accidents are slight, showing that many are minor.</h2>"
   ]
  },
  {
   "cell_type": "markdown",
   "id": "604c0863-035d-4170-932c-4e34563ba828",
   "metadata": {},
   "source": [
    "<h1>Question 2</h1>"
   ]
  },
  {
   "cell_type": "markdown",
   "id": "f122d723-9fbd-4728-b539-964201973ba8",
   "metadata": {},
   "source": [
    "<h2>What is the average number of casualties?</h2>"
   ]
  },
  {
   "cell_type": "code",
   "execution_count": 12,
   "id": "2df5f00f-bfb4-4300-8265-ffbb2cca24ef",
   "metadata": {},
   "outputs": [
    {
     "data": {
      "text/plain": [
       "np.float64(1.357040257068864)"
      ]
     },
     "execution_count": 12,
     "metadata": {},
     "output_type": "execute_result"
    }
   ],
   "source": [
    "ukaccidents['Number_of_Casualties'].mean()"
   ]
  },
  {
   "cell_type": "markdown",
   "id": "1bf50a47-cc30-4088-a052-3d7d0d558036",
   "metadata": {},
   "source": [
    "<h2>Insights: On Average, about 1 person is injured per accident.</h2>"
   ]
  },
  {
   "cell_type": "markdown",
   "id": "250f8a72-afe3-44a7-b3b1-564b76197caa",
   "metadata": {},
   "source": [
    "<h1>Question 3</h1>"
   ]
  },
  {
   "cell_type": "markdown",
   "id": "912c63f6-e649-4379-a207-ac56b0b438df",
   "metadata": {},
   "source": [
    "<h2>What is the maximun casualties in a single accidents?</h2>"
   ]
  },
  {
   "cell_type": "code",
   "execution_count": 13,
   "id": "6f42c611-9cd3-4bd4-839f-e692028403d7",
   "metadata": {},
   "outputs": [
    {
     "data": {
      "text/plain": [
       "np.int64(68)"
      ]
     },
     "execution_count": 13,
     "metadata": {},
     "output_type": "execute_result"
    }
   ],
   "source": [
    "ukaccidents['Number_of_Casualties'].max()"
   ]
  },
  {
   "cell_type": "markdown",
   "id": "1ccf5eba-f976-43e2-954f-20b299959f93",
   "metadata": {},
   "source": [
    "<h2>Insights: The worst accidents involve many casualties, but it is rare.</h2>"
   ]
  },
  {
   "cell_type": "markdown",
   "id": "1c381eb0-7599-47c5-8022-dd056aeef1b6",
   "metadata": {},
   "source": [
    "<h1>Question 4</h1>"
   ]
  },
  {
   "cell_type": "markdown",
   "id": "6ba1918b-4276-47a9-986a-52cde4c46c75",
   "metadata": {},
   "source": [
    "<h2>What is the average number of vehicles involved?</h2>"
   ]
  },
  {
   "cell_type": "code",
   "execution_count": 14,
   "id": "afb4cf62-e49e-4b99-b68b-5a40d5ce48d9",
   "metadata": {},
   "outputs": [
    {
     "data": {
      "text/plain": [
       "np.float64(1.8312554205597575)"
      ]
     },
     "execution_count": 14,
     "metadata": {},
     "output_type": "execute_result"
    }
   ],
   "source": [
    "ukaccidents['Number_of_Vehicles'].mean()"
   ]
  },
  {
   "cell_type": "markdown",
   "id": "d28760be-d5c1-4c73-b9d8-ce33d7fefe6f",
   "metadata": {},
   "source": [
    "<h2>Insights: Most accidents involve 1-2 vehicles.\n",
    "</h2>"
   ]
  },
  {
   "cell_type": "markdown",
   "id": "723a2ab0-2b33-4bc7-83b3-098488e9e28f",
   "metadata": {},
   "source": [
    "<h1>Question 5</h1>"
   ]
  },
  {
   "cell_type": "markdown",
   "id": "a1e19b3d-a180-44f5-a53e-84dc48d4d209",
   "metadata": {},
   "source": [
    "<h2>What is the most common road surface conditon?</h2>"
   ]
  },
  {
   "cell_type": "code",
   "execution_count": 15,
   "id": "d16dae0f-6c71-480c-9e13-c2dd5666af8a",
   "metadata": {},
   "outputs": [
    {
     "data": {
      "text/plain": [
       "Road_Surface_Conditions\n",
       "Dry    448547\n",
       "Name: count, dtype: int64"
      ]
     },
     "execution_count": 15,
     "metadata": {},
     "output_type": "execute_result"
    }
   ],
   "source": [
    "ukaccidents['Road_Surface_Conditions'].value_counts().head(1)"
   ]
  },
  {
   "cell_type": "markdown",
   "id": "2c45cdb1-4d32-4150-ac2b-62688b224837",
   "metadata": {},
   "source": [
    "<h2>Insights: Most happen on dry roads, since they are the most common condition.\n",
    "</h2>"
   ]
  },
  {
   "cell_type": "markdown",
   "id": "6d7719af-c0af-4000-bcf3-189c0bbbde93",
   "metadata": {},
   "source": [
    "<h1>Question 6</h1>"
   ]
  },
  {
   "cell_type": "markdown",
   "id": "3d5f23e2-a8d5-430d-9968-75b877326e78",
   "metadata": {},
   "source": [
    "<h2>What is the most common weather condition?</h2>"
   ]
  },
  {
   "cell_type": "code",
   "execution_count": 16,
   "id": "8f82b999-27e3-4214-a994-a372304844af",
   "metadata": {},
   "outputs": [
    {
     "data": {
      "text/plain": [
       "Weather_Conditions\n",
       "Fine no high winds    535013\n",
       "Name: count, dtype: int64"
      ]
     },
     "execution_count": 16,
     "metadata": {},
     "output_type": "execute_result"
    }
   ],
   "source": [
    "ukaccidents['Weather_Conditions'].value_counts().head(1)"
   ]
  },
  {
   "cell_type": "markdown",
   "id": "3c7b5f66-4b33-4941-80a8-43faf5bff342",
   "metadata": {},
   "source": [
    "<h2>Insights: Fine weather has the most accidents, since people drive more often.</h2>"
   ]
  },
  {
   "cell_type": "markdown",
   "id": "995f1383-503a-4615-ac97-48521c5a8040",
   "metadata": {},
   "source": [
    "<h1>Question 7</h1>"
   ]
  },
  {
   "cell_type": "markdown",
   "id": "84b665e7-9ce4-4077-9b4b-c0d4a093fa8f",
   "metadata": {},
   "source": [
    "<h2>Where do more accidents happens, Urban or Rural areas?</h2>"
   ]
  },
  {
   "cell_type": "code",
   "execution_count": 17,
   "id": "70380981-53fd-4369-9bee-1227f4f6bfc7",
   "metadata": {},
   "outputs": [
    {
     "data": {
      "text/plain": [
       "Urban_or_Rural_Area\n",
       "Urban          421678\n",
       "Rural          238990\n",
       "Unallocated        11\n",
       "Name: count, dtype: int64"
      ]
     },
     "execution_count": 17,
     "metadata": {},
     "output_type": "execute_result"
    }
   ],
   "source": [
    "ukaccidents['Urban_or_Rural_Area'].value_counts()"
   ]
  },
  {
   "cell_type": "markdown",
   "id": "1ab03ee9-8034-46df-8092-fd8fd3d0e52b",
   "metadata": {},
   "source": [
    "<h2>Insights: Urban areas have more accidents due to higher traffic.</h2>"
   ]
  },
  {
   "cell_type": "markdown",
   "id": "99072025-9b6c-4835-ad64-daecf814c260",
   "metadata": {},
   "source": [
    "<h1>Question 8</h1>"
   ]
  },
  {
   "cell_type": "markdown",
   "id": "e3d45853-f68a-47f8-95ed-71bafdc6e408",
   "metadata": {},
   "source": [
    "<h2>What is the most common light condition?</h2>"
   ]
  },
  {
   "cell_type": "code",
   "execution_count": 18,
   "id": "16b826db-f6f1-49df-ada2-1b8926bb0922",
   "metadata": {},
   "outputs": [
    {
     "data": {
      "text/plain": [
       "Light_Conditions\n",
       "Daylight                       484880\n",
       "Darkness - lights lit          129335\n",
       "Darkness - no lighting          37437\n",
       "Darkness - lighting unknown      6484\n",
       "Darkness - lights unlit          2543\n",
       "Name: count, dtype: int64"
      ]
     },
     "execution_count": 18,
     "metadata": {},
     "output_type": "execute_result"
    }
   ],
   "source": [
    "ukaccidents['Light_Conditions'].value_counts()"
   ]
  },
  {
   "cell_type": "markdown",
   "id": "bf4b945a-eec3-4582-864d-4fbf7155efb1",
   "metadata": {},
   "source": [
    "<h2>Insights: More accidents happen in daylight, but night accidents tend to be worse</h2>"
   ]
  },
  {
   "cell_type": "markdown",
   "id": "9fdcd5cb-0f5d-4da4-a71a-4e4e4d60bb25",
   "metadata": {},
   "source": [
    "<h1>Question 9</h1>"
   ]
  },
  {
   "cell_type": "markdown",
   "id": "b9fce1a4-48ce-421d-baf4-67ed0bc165e6",
   "metadata": {},
   "source": [
    "<h2>What is the most common vehicle type?</h2>"
   ]
  },
  {
   "cell_type": "code",
   "execution_count": 19,
   "id": "42136f48-ab83-4e02-8570-865b04b43911",
   "metadata": {},
   "outputs": [
    {
     "data": {
      "text/plain": [
       "Vehicle_Type\n",
       "Car                                     497992\n",
       "Van / Goods 3.5 tonnes mgw or under      34160\n",
       "Bus or coach (17 or more pass seats)     25878\n",
       "Motorcycle over 500cc                    25657\n",
       "Goods 7.5 tonnes mgw and over            17307\n",
       "Name: count, dtype: int64"
      ]
     },
     "execution_count": 19,
     "metadata": {},
     "output_type": "execute_result"
    }
   ],
   "source": [
    "ukaccidents['Vehicle_Type'].value_counts().head(5)"
   ]
  },
  {
   "cell_type": "markdown",
   "id": "3ee42d5b-52c3-4e0d-8388-ade87dea3fea",
   "metadata": {},
   "source": [
    "<h2>Insights: Cars are the most common vehicles in accidents.</h2>"
   ]
  },
  {
   "cell_type": "markdown",
   "id": "fa338d08-1de4-4e32-9a13-90aa915535c3",
   "metadata": {},
   "source": [
    "<h1>Question 10</h1>"
   ]
  },
  {
   "cell_type": "markdown",
   "id": "1b8a9918-5676-4cab-b9c1-abb8872edaf2",
   "metadata": {},
   "source": [
    "<h2>What is the average casualties by vehicle type?\n",
    "</h2>"
   ]
  },
  {
   "cell_type": "code",
   "execution_count": 20,
   "id": "d72a64e3-8a0c-4001-8a36-c0f9e48afaf6",
   "metadata": {},
   "outputs": [
    {
     "data": {
      "text/plain": [
       "Vehicle_Type\n",
       "Agricultural vehicle                    1.342065\n",
       "Bus or coach (17 or more pass seats)    1.349216\n",
       "Car                                     1.358841\n",
       "Data missing or out of range            1.500000\n",
       "Goods 7.5 tonnes mgw and over           1.351881\n",
       "Name: Number_of_Casualties, dtype: float64"
      ]
     },
     "execution_count": 20,
     "metadata": {},
     "output_type": "execute_result"
    }
   ],
   "source": [
    "ukaccidents.groupby('Vehicle_Type')['Number_of_Casualties'].mean().head(5)"
   ]
  },
  {
   "cell_type": "markdown",
   "id": "906734cf-ee0b-4cd3-b42b-02d38db109b6",
   "metadata": {},
   "source": [
    "<h2>Insights: Larger vehicles like buses may have higher average casualties.</h2>"
   ]
  },
  {
   "cell_type": "markdown",
   "id": "896f9b55-5df1-4d1e-9306-020955dba031",
   "metadata": {},
   "source": [
    "<h1>Question 11</h1>"
   ]
  },
  {
   "cell_type": "markdown",
   "id": "e0174bd0-8338-496e-a0a8-b0b3db57121d",
   "metadata": {},
   "source": [
    "<h2>What is the most common road type?</h2>"
   ]
  },
  {
   "cell_type": "code",
   "execution_count": 21,
   "id": "ea028042-6be8-4a29-8931-4c4d931f77cc",
   "metadata": {},
   "outputs": [
    {
     "data": {
      "text/plain": [
       "Road_Type\n",
       "Single carriageway    496663\n",
       "Dual carriageway       99424\n",
       "Roundabout             43992\n",
       "One way street         13559\n",
       "Slip road               7041\n",
       "Name: count, dtype: int64"
      ]
     },
     "execution_count": 21,
     "metadata": {},
     "output_type": "execute_result"
    }
   ],
   "source": [
    "ukaccidents['Road_Type'].value_counts().head(5)"
   ]
  },
  {
   "cell_type": "markdown",
   "id": "5ddd5877-4e1f-420b-b320-4e631405fb32",
   "metadata": {},
   "source": [
    "<h2>Insights: Single carriageways are the most accident-prone.</h2>"
   ]
  },
  {
   "cell_type": "markdown",
   "id": "ff2141b2-1db0-4c61-ad31-f4ad5f25be75",
   "metadata": {},
   "source": [
    "<h1>Question 12</h1>"
   ]
  },
  {
   "cell_type": "markdown",
   "id": "8d48605b-0256-411a-8f16-49425712b7f5",
   "metadata": {},
   "source": [
    "<h2>What is the District with most accidents?</h2>"
   ]
  },
  {
   "cell_type": "code",
   "execution_count": 22,
   "id": "1828d173-f1fe-49c1-9209-aea6acf59e43",
   "metadata": {},
   "outputs": [
    {
     "data": {
      "text/plain": [
       "District Area\n",
       "Birmingham    13491\n",
       "Name: count, dtype: int64"
      ]
     },
     "execution_count": 22,
     "metadata": {},
     "output_type": "execute_result"
    }
   ],
   "source": [
    "ukaccidents['District Area'].value_counts().head(1)"
   ]
  },
  {
   "cell_type": "markdown",
   "id": "29a3441a-653e-4238-8ab7-4ef6358fd1eb",
   "metadata": {},
   "source": [
    "<h2>Insights: Some districs have much higher accident counts, showing hostspots.</h2>"
   ]
  },
  {
   "cell_type": "markdown",
   "id": "c9d1ea2c-ae37-4e0c-87aa-56e2d4c46f5a",
   "metadata": {},
   "source": [
    "<h1>Question 13</h1>"
   ]
  },
  {
   "cell_type": "markdown",
   "id": "b29e877c-fc3b-46fe-a930-2ff17a5b0a82",
   "metadata": {},
   "source": [
    "<h2>What is the number of accidents with >2 vehicles?</h2>"
   ]
  },
  {
   "cell_type": "code",
   "execution_count": 23,
   "id": "379d1229-803d-49a8-ae91-af8a9b48ea41",
   "metadata": {},
   "outputs": [
    {
     "data": {
      "text/plain": [
       "np.int64(67897)"
      ]
     },
     "execution_count": 23,
     "metadata": {},
     "output_type": "execute_result"
    }
   ],
   "source": [
    "(ukaccidents['Number_of_Vehicles']>2).sum()"
   ]
  },
  {
   "cell_type": "markdown",
   "id": "c4918501-f06f-435e-b6dc-a928820b5a3f",
   "metadata": {},
   "source": [
    "<h2>Insights: Multi-vehicle crashes are less common but dangerous.</h2>"
   ]
  },
  {
   "cell_type": "markdown",
   "id": "82f09705-d52e-4aa6-b832-ea20c4bfaf6f",
   "metadata": {},
   "source": [
    "<h1>Question 14</h1>"
   ]
  },
  {
   "cell_type": "markdown",
   "id": "dd8d06e1-a88c-42dc-99a1-7ac2f7de2cc6",
   "metadata": {},
   "source": [
    "<h2>What is the number of accidents with >3 casualties?</h2>"
   ]
  },
  {
   "cell_type": "code",
   "execution_count": 24,
   "id": "9bb580cd-fcd8-4605-ab45-31bd96fb2e68",
   "metadata": {},
   "outputs": [
    {
     "data": {
      "text/plain": [
       "np.int64(17891)"
      ]
     },
     "execution_count": 24,
     "metadata": {},
     "output_type": "execute_result"
    }
   ],
   "source": [
    "(ukaccidents['Number_of_Casualties']>3).sum()"
   ]
  },
  {
   "cell_type": "markdown",
   "id": "84c74ede-38ce-4a51-8afb-ba5cdbf976d0",
   "metadata": {},
   "source": [
    "<h2>Insights: Most accidents have few casualties, but some major events exist.</h2>"
   ]
  },
  {
   "cell_type": "markdown",
   "id": "864e9ca7-3d06-4f1a-8906-e969fe5012cb",
   "metadata": {},
   "source": [
    "<h1>Question 15</h1>"
   ]
  },
  {
   "cell_type": "markdown",
   "id": "f137ccea-83cf-4040-86c2-a2b57d283bae",
   "metadata": {},
   "source": [
    "<h2>What is the count of accidents on dry vs wet roads?</h2>"
   ]
  },
  {
   "cell_type": "code",
   "execution_count": 25,
   "id": "4417b8fe-bbe1-419a-8e91-50cb473992ce",
   "metadata": {},
   "outputs": [
    {
     "data": {
      "text/plain": [
       "Road_Surface_Conditions\n",
       "Dry            448547\n",
       "Wet or damp    186708\n",
       "Name: count, dtype: int64"
      ]
     },
     "execution_count": 25,
     "metadata": {},
     "output_type": "execute_result"
    }
   ],
   "source": [
    "ukaccidents['Road_Surface_Conditions'].value_counts().head(2)"
   ]
  },
  {
   "cell_type": "markdown",
   "id": "1cabbf6a-0316-401a-b0b4-4831ca620362",
   "metadata": {},
   "source": [
    "<h2>Insights: Dry roads see the most accidents, but wet roads may be more dangerous.</h2>"
   ]
  },
  {
   "cell_type": "markdown",
   "id": "7cd57e7b-0ebf-46de-a496-e5ea24e9dda9",
   "metadata": {},
   "source": [
    "<h1>Question 16 </h1>"
   ]
  },
  {
   "cell_type": "markdown",
   "id": "df95f2e5-bbb4-4b54-b749-44fb73ee363c",
   "metadata": {},
   "source": [
    "<h2>What is the count of accidents in fine vs rainy weather?</h2>"
   ]
  },
  {
   "cell_type": "code",
   "execution_count": 26,
   "id": "ce772474-4a8e-4e04-8c04-2b95fa35e848",
   "metadata": {},
   "outputs": [
    {
     "data": {
      "text/plain": [
       "Weather_Conditions\n",
       "Fine no high winds       535013\n",
       "Raining no high winds     79696\n",
       "Name: count, dtype: int64"
      ]
     },
     "execution_count": 26,
     "metadata": {},
     "output_type": "execute_result"
    }
   ],
   "source": [
    "ukaccidents['Weather_Conditions'].value_counts().head(2)"
   ]
  },
  {
   "cell_type": "markdown",
   "id": "d8c41164-1b3b-40db-b77a-2d292852987c",
   "metadata": {},
   "source": [
    "<h2>Insights: Fine weather dominates, but rain still causes many accidents.</h2>"
   ]
  },
  {
   "cell_type": "markdown",
   "id": "3e24db2b-0f93-4c37-ab59-0be09b13ebf6",
   "metadata": {},
   "source": [
    "<h1>Question 17</h1>"
   ]
  },
  {
   "cell_type": "markdown",
   "id": "be902f06-affe-4bae-b47b-07dc99cc8c61",
   "metadata": {},
   "source": [
    "<h2>What are the Districs with more than 10.000 accidents?\n",
    "</h2>"
   ]
  },
  {
   "cell_type": "code",
   "execution_count": 27,
   "id": "7ceae977-3c71-4353-8227-323adc4dfbf0",
   "metadata": {},
   "outputs": [
    {
     "data": {
      "text/plain": [
       "District Area\n",
       "Birmingham    13491\n",
       "Name: count, dtype: int64"
      ]
     },
     "execution_count": 27,
     "metadata": {},
     "output_type": "execute_result"
    }
   ],
   "source": [
    "ukaccidents['District Area'].value_counts()[ukaccidents['District Area'].value_counts()>10000]"
   ]
  },
  {
   "cell_type": "markdown",
   "id": "b57fbb5b-d962-4475-8525-5f5238001551",
   "metadata": {},
   "source": [
    "<h2>Insights: Birmingham have extremely high accident counts.</h2>"
   ]
  },
  {
   "cell_type": "markdown",
   "id": "12936649-fe9d-45f8-aba8-15776814b505",
   "metadata": {},
   "source": [
    "<h1>Question 18</h1>"
   ]
  },
  {
   "cell_type": "markdown",
   "id": "d9babe23-2650-42ef-ac49-da84ca989681",
   "metadata": {},
   "source": [
    "<h2>What is the average casualties in Urban vs Rural areas?</h2>"
   ]
  },
  {
   "cell_type": "code",
   "execution_count": 28,
   "id": "e82457f8-d1f6-4d16-a089-fb763a349619",
   "metadata": {},
   "outputs": [
    {
     "data": {
      "text/plain": [
       "Urban_or_Rural_Area\n",
       "Rural          1.479204\n",
       "Unallocated    1.181818\n",
       "Urban          1.287807\n",
       "Name: Number_of_Casualties, dtype: float64"
      ]
     },
     "execution_count": 28,
     "metadata": {},
     "output_type": "execute_result"
    }
   ],
   "source": [
    "ukaccidents.groupby('Urban_or_Rural_Area')['Number_of_Casualties'].mean()"
   ]
  },
  {
   "cell_type": "markdown",
   "id": "6ad13a8d-4b6a-4a78-82b1-d8fd0f16ee5d",
   "metadata": {},
   "source": [
    "<h2>Insights: Rural accidents often have higher casualties, due to their higher speeds.</h2>"
   ]
  },
  {
   "cell_type": "markdown",
   "id": "77c0dafc-1b6f-4607-8a81-450c65b2229f",
   "metadata": {},
   "source": [
    "<h1>Question 19</h1>"
   ]
  },
  {
   "cell_type": "markdown",
   "id": "92b0c8f7-542a-454f-862f-f2bc5ac04e2a",
   "metadata": {},
   "source": [
    "<h2>What is the year with the most accidents?</h2>"
   ]
  },
  {
   "cell_type": "code",
   "execution_count": 29,
   "id": "f0f198bb-44a1-4d48-ac7a-bd531dd3117c",
   "metadata": {},
   "outputs": [
    {
     "data": {
      "text/plain": [
       "Accident Date\n",
       "30-11-2019    704\n",
       "31-01-2019    697\n",
       "13-07-2019    692\n",
       "13-11-2021    692\n",
       "14-08-2019    688\n",
       "Name: count, dtype: int64"
      ]
     },
     "execution_count": 29,
     "metadata": {},
     "output_type": "execute_result"
    }
   ],
   "source": [
    "ukaccidents['Accident Date'].value_counts().head(5)"
   ]
  },
  {
   "cell_type": "markdown",
   "id": "91f6e5a4-5152-49bf-9cd1-d66bdc834b6b",
   "metadata": {},
   "source": [
    "<h2>Insights: Accident numbers can show trends over time, it may increase or decrease over time.</h2>"
   ]
  },
  {
   "cell_type": "markdown",
   "id": "2040a8dc-a7b1-44aa-9d2c-9b4201c3de55",
   "metadata": {},
   "source": [
    "<h1>Question 20</h1>"
   ]
  },
  {
   "cell_type": "markdown",
   "id": "dfa29768-3ca5-4b5b-bb4a-aaa3138ad932",
   "metadata": {},
   "source": [
    "<h2>What is the average vehicles by severity?</h2>"
   ]
  },
  {
   "cell_type": "code",
   "execution_count": 30,
   "id": "2b75db5a-6585-484f-8435-88146728033d",
   "metadata": {},
   "outputs": [
    {
     "data": {
      "text/plain": [
       "Accident_Severity\n",
       "Fatal      1.786976\n",
       "Serious    1.678327\n",
       "Slight     1.855864\n",
       "Name: Number_of_Vehicles, dtype: float64"
      ]
     },
     "execution_count": 30,
     "metadata": {},
     "output_type": "execute_result"
    }
   ],
   "source": [
    "ukaccidents.groupby('Accident_Severity')['Number_of_Vehicles'].mean()"
   ]
  },
  {
   "cell_type": "markdown",
   "id": "94e2f4d3-9aa1-4649-ae5b-787d8de8cf0f",
   "metadata": {},
   "source": [
    "<h2>Insights: Serious or Fatal accidents may involve more vehicles on average, while Slight accidents are often single-vehicle or two-vehicle crashes</h2>"
   ]
  },
  {
   "cell_type": "markdown",
   "id": "7dcb8de3-7bf3-4894-83a0-92bc240c04f3",
   "metadata": {},
   "source": [
    "<h1>Clearing any Inconsistencies with the Data Set</h1>"
   ]
  },
  {
   "cell_type": "code",
   "execution_count": 32,
   "id": "382f7f59-9221-4049-bd4e-315cd6c8b37c",
   "metadata": {},
   "outputs": [],
   "source": [
    "ukaccidents['Accident Date'] = ukaccidents['Accident Date'].str.strip() #to remove any extra white spaces\n",
    "ukaccidents['Accident Date'] = ukaccidents['Accident Date'].astype('str') #to convert into a string\n",
    "ukaccidents['Accident Date'] = ukaccidents['Accident Date'].str.replace('/','-')"
   ]
  },
  {
   "cell_type": "code",
   "execution_count": 34,
   "id": "49e67140-c3d3-45d3-8fac-f245e2933fc5",
   "metadata": {},
   "outputs": [],
   "source": [
    "ukaccidents['Accident Date'] = pd.to_datetime(ukaccidents['Accident Date'], dayfirst=True, errors ='coerce')"
   ]
  },
  {
   "cell_type": "markdown",
   "id": "c23fbe8f-02a8-45d1-9559-250ebbe03052",
   "metadata": {},
   "source": [
    "<h1>Extracting Date Information using pandas date time</h1>"
   ]
  },
  {
   "cell_type": "code",
   "execution_count": 38,
   "id": "3cd69672-3c0f-4109-8e11-8807b4a2e36c",
   "metadata": {},
   "outputs": [],
   "source": [
    "ukaccidents['Year'] = ukaccidents['Accident Date'].dt.year\n",
    "ukaccidents['Month'] = ukaccidents['Accident Date'].dt.month\n",
    "ukaccidents['Day'] = ukaccidents['Accident Date'].dt.day\n",
    "ukaccidents['DayOfWeek'] = ukaccidents['Accident Date'].dt.dayofweek #monday=0, Sunday=6"
   ]
  },
  {
   "cell_type": "code",
   "execution_count": 39,
   "id": "8b59540d-c193-4974-8e9e-88b646dcb4ba",
   "metadata": {},
   "outputs": [
    {
     "data": {
      "text/plain": [
       "Index                      0\n",
       "Accident_Severity          0\n",
       "Accident Date              0\n",
       "Latitude                   0\n",
       "Light_Conditions           0\n",
       "District Area              0\n",
       "Longitude                  0\n",
       "Number_of_Casualties       0\n",
       "Number_of_Vehicles         0\n",
       "Road_Surface_Conditions    0\n",
       "Road_Type                  0\n",
       "Urban_or_Rural_Area        0\n",
       "Weather_Conditions         0\n",
       "Vehicle_Type               0\n",
       "Year                       0\n",
       "Month                      0\n",
       "Day                        0\n",
       "DayOfWeek                  0\n",
       "dtype: int64"
      ]
     },
     "execution_count": 39,
     "metadata": {},
     "output_type": "execute_result"
    }
   ],
   "source": [
    "ukaccidents.isnull().sum()"
   ]
  },
  {
   "cell_type": "markdown",
   "id": "358fea16-11bb-4e0d-affc-bc77e621f6fb",
   "metadata": {},
   "source": [
    "<h1>Question</h1>"
   ]
  },
  {
   "cell_type": "markdown",
   "id": "b8a3f5f3-be01-41e6-8ae0-38e20932ff2d",
   "metadata": {},
   "source": [
    "<h2>Which road types have the most vehicles involved in accidents?</h2>"
   ]
  },
  {
   "cell_type": "code",
   "execution_count": 40,
   "id": "26b6657a-c1f1-4832-88b2-0b36d6ed3c46",
   "metadata": {},
   "outputs": [
    {
     "data": {
      "text/plain": [
       "Road_Type\n",
       "Dual carriageway      2.009766\n",
       "Slip road             1.917483\n",
       "Roundabout            1.901323\n",
       "Single carriageway    1.794803\n",
       "One way street        1.585441\n",
       "Name: Number_of_Vehicles, dtype: float64"
      ]
     },
     "execution_count": 40,
     "metadata": {},
     "output_type": "execute_result"
    }
   ],
   "source": [
    "ukaccidents.groupby('Road_Type')['Number_of_Vehicles'].mean().sort_values(ascending=False).head(5)"
   ]
  },
  {
   "cell_type": "markdown",
   "id": "25f482e6-b73c-4074-9274-c56835e1ea75",
   "metadata": {},
   "source": [
    "<h2>Insights:\n",
    "<li> Dual carriageways average ~2 vehicles per accident (highest).</li>\n",
    "<li>Slip roads and roundabouts also have high averages.</li>\n",
    "<li>Single carriageways and one-way streets involve fewer vehicles.</li>\n",
    "<li>Busier/multi-lane roads lead to more multi-vehicle accidents.</li>\n"
   ]
  },
  {
   "cell_type": "markdown",
   "id": "1e138c2d-da72-4e65-8c20-fd3681a98d35",
   "metadata": {},
   "source": [
    "<h2>On average, how many casualties happen in each type of accident?</h2>"
   ]
  },
  {
   "cell_type": "code",
   "execution_count": 41,
   "id": "44d426a0-9bad-4599-bd05-108a708daea3",
   "metadata": {},
   "outputs": [
    {
     "data": {
      "text/plain": [
       "Accident_Severity\n",
       "Fatal      1.903129\n",
       "Serious    1.467280\n",
       "Slight     1.331402\n",
       "Name: Number_of_Casualties, dtype: float64"
      ]
     },
     "execution_count": 41,
     "metadata": {},
     "output_type": "execute_result"
    }
   ],
   "source": [
    "ukaccidents.groupby('Accident_Severity')['Number_of_Casualties'].mean()"
   ]
  },
  {
   "cell_type": "markdown",
   "id": "7aa09d96-5b68-4296-b431-4fdd9857a2e7",
   "metadata": {},
   "source": [
    "<h2>Insights:\n",
    "<li>Fatal accidents involve almost 2 people on average.</li>\n",
    "<li>Serious accidents: about 1.47 people.</li>\n",
    "<li>Slight accidents: about 1.33 people.</li>\n",
    "<li>Fatal accidents usually affect more people per incident.</li>\n",
    "</h2>"
   ]
  },
  {
   "cell_type": "code",
   "execution_count": null,
   "id": "ed2af5f8-79b4-456b-9511-d2b0c691938d",
   "metadata": {},
   "outputs": [],
   "source": []
  }
 ],
 "metadata": {
  "kernelspec": {
   "display_name": "Python 3 (ipykernel)",
   "language": "python",
   "name": "python3"
  },
  "language_info": {
   "codemirror_mode": {
    "name": "ipython",
    "version": 3
   },
   "file_extension": ".py",
   "mimetype": "text/x-python",
   "name": "python",
   "nbconvert_exporter": "python",
   "pygments_lexer": "ipython3",
   "version": "3.13.1"
  }
 },
 "nbformat": 4,
 "nbformat_minor": 5
}
